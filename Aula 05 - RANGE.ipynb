{
 "cells": [
  {
   "cell_type": "markdown",
   "id": "411b9ca3",
   "metadata": {},
   "source": [
    "Python Básico\n",
    "\n",
    "Profº Adelmo Rodrigues\n",
    "\n",
    "https://github.com/ProfAdelmo\n",
    "\n",
    "RANGE"
   ]
  },
  {
   "cell_type": "code",
   "execution_count": 16,
   "id": "b68c4cbb",
   "metadata": {},
   "outputs": [
    {
     "name": "stdout",
     "output_type": "stream",
     "text": [
      "1\n",
      "2\n",
      "3\n",
      "4\n",
      "5\n",
      "6\n",
      "7\n",
      "8\n",
      "9\n",
      "10\n"
     ]
    }
   ],
   "source": [
    "# Imprimindo números de 1 até 10\n",
    "for i in range(1,11):\n",
    "    print(i)"
   ]
  },
  {
   "cell_type": "code",
   "execution_count": 17,
   "id": "29075bfa",
   "metadata": {},
   "outputs": [
    {
     "name": "stdout",
     "output_type": "stream",
     "text": [
      "10\n",
      "12\n",
      "14\n",
      "16\n",
      "18\n",
      "20\n",
      "22\n",
      "24\n",
      "26\n",
      "28\n",
      "30\n"
     ]
    }
   ],
   "source": [
    "# Imprimindo números pares entre 10 e 30 de 2 em 2\n",
    "for i in range(10, 31, 2):\n",
    "    print(i)"
   ]
  },
  {
   "cell_type": "code",
   "execution_count": 19,
   "id": "3bdc8587",
   "metadata": {},
   "outputs": [
    {
     "name": "stdout",
     "output_type": "stream",
     "text": [
      "0\n",
      "-2\n",
      "-4\n",
      "-6\n",
      "-8\n",
      "-10\n"
     ]
    }
   ],
   "source": [
    "# Imprimindo os valores entre 0 e -10\n",
    "for i in range(0, -11, -2):\n",
    "    print(i)"
   ]
  },
  {
   "cell_type": "code",
   "execution_count": 20,
   "id": "a2cded6f",
   "metadata": {},
   "outputs": [
    {
     "name": "stdout",
     "output_type": "stream",
     "text": [
      "Adelmo\n",
      "Cayo\n",
      "Paula\n",
      "Bruno\n"
     ]
    }
   ],
   "source": [
    "lista = ['Adelmo', 'Cayo', 'Paula', 'Bruno']\n",
    "listatamanho = len(lista)\n",
    "for i in range(0, listatamanho):\n",
    "    print(lista[i])"
   ]
  },
  {
   "cell_type": "code",
   "execution_count": 21,
   "id": "700c1c40",
   "metadata": {},
   "outputs": [
    {
     "name": "stdout",
     "output_type": "stream",
     "text": [
      "Adelmo\n",
      "Cayo\n",
      "Paula\n",
      "Bruno\n"
     ]
    }
   ],
   "source": [
    "lista = ['Adelmo', 'Cayo', 'Paula', 'Bruno']\n",
    "for i in lista:\n",
    "    print(i)"
   ]
  },
  {
   "cell_type": "code",
   "execution_count": null,
   "id": "b72b474e",
   "metadata": {},
   "outputs": [],
   "source": []
  }
 ],
 "metadata": {
  "kernelspec": {
   "display_name": "Python 3",
   "language": "python",
   "name": "python3"
  },
  "language_info": {
   "codemirror_mode": {
    "name": "ipython",
    "version": 3
   },
   "file_extension": ".py",
   "mimetype": "text/x-python",
   "name": "python",
   "nbconvert_exporter": "python",
   "pygments_lexer": "ipython3",
   "version": "3.8.8"
  }
 },
 "nbformat": 4,
 "nbformat_minor": 5
}
