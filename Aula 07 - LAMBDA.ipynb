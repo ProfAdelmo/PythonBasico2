{
 "cells": [
  {
   "cell_type": "markdown",
   "id": "052badfb",
   "metadata": {},
   "source": [
    "Python Básico\n",
    "\n",
    "Profº Adelmo Rodrigues\n",
    "\n",
    "https://github.com/ProfAdelmo\n",
    "\n",
    "LAMBDA"
   ]
  },
  {
   "cell_type": "code",
   "execution_count": 18,
   "id": "5e476d8f",
   "metadata": {},
   "outputs": [],
   "source": [
    "# Definindo uma expressão lambda\n",
    "pot = lambda n: n**2"
   ]
  },
  {
   "cell_type": "code",
   "execution_count": 19,
   "id": "c641aaa0",
   "metadata": {},
   "outputs": [
    {
     "data": {
      "text/plain": [
       "16"
      ]
     },
     "execution_count": 19,
     "metadata": {},
     "output_type": "execute_result"
    }
   ],
   "source": [
    "pot(4)"
   ]
  },
  {
   "cell_type": "code",
   "execution_count": 20,
   "id": "4fd02932",
   "metadata": {},
   "outputs": [],
   "source": [
    "# Lambda com retorno boleano\n",
    "Par = lambda x: x%2==0"
   ]
  },
  {
   "cell_type": "code",
   "execution_count": 22,
   "id": "e52bd628",
   "metadata": {},
   "outputs": [
    {
     "data": {
      "text/plain": [
       "False"
      ]
     },
     "execution_count": 22,
     "metadata": {},
     "output_type": "execute_result"
    }
   ],
   "source": [
    "Par(15)"
   ]
  },
  {
   "cell_type": "code",
   "execution_count": 23,
   "id": "16c68af1",
   "metadata": {},
   "outputs": [
    {
     "data": {
      "text/plain": [
       "True"
      ]
     },
     "execution_count": 23,
     "metadata": {},
     "output_type": "execute_result"
    }
   ],
   "source": [
    "Par(16)"
   ]
  },
  {
   "cell_type": "code",
   "execution_count": 24,
   "id": "515fb8ee",
   "metadata": {},
   "outputs": [],
   "source": [
    "# Lambda para calcular Raiz quadrada\n",
    "raiz = lambda n:n**(1/2)"
   ]
  },
  {
   "cell_type": "code",
   "execution_count": 25,
   "id": "c0659257",
   "metadata": {},
   "outputs": [
    {
     "data": {
      "text/plain": [
       "4.0"
      ]
     },
     "execution_count": 25,
     "metadata": {},
     "output_type": "execute_result"
    }
   ],
   "source": [
    "raiz(16)"
   ]
  },
  {
   "cell_type": "code",
   "execution_count": 26,
   "id": "9c24ca8a",
   "metadata": {},
   "outputs": [
    {
     "data": {
      "text/plain": [
       "5.0"
      ]
     },
     "execution_count": 26,
     "metadata": {},
     "output_type": "execute_result"
    }
   ],
   "source": [
    "raiz(25)"
   ]
  }
 ],
 "metadata": {
  "kernelspec": {
   "display_name": "Python 3",
   "language": "python",
   "name": "python3"
  },
  "language_info": {
   "codemirror_mode": {
    "name": "ipython",
    "version": 3
   },
   "file_extension": ".py",
   "mimetype": "text/x-python",
   "name": "python",
   "nbconvert_exporter": "python",
   "pygments_lexer": "ipython3",
   "version": "3.8.8"
  }
 },
 "nbformat": 4,
 "nbformat_minor": 5
}
