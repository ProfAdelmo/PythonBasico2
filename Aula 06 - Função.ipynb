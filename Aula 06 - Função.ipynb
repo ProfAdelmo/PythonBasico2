{
 "cells": [
  {
   "cell_type": "markdown",
   "id": "660e527f",
   "metadata": {},
   "source": [
    "Python Básico\n",
    "\n",
    "Profº Adelmo Rodrigues\n",
    "\n",
    "https://github.com/ProfAdelmo\n",
    "\n",
    "FUNÇÃO"
   ]
  },
  {
   "cell_type": "code",
   "execution_count": 4,
   "id": "0b2c733e",
   "metadata": {},
   "outputs": [],
   "source": [
    "# Definindo uma função\n",
    "def Func():\n",
    "    print(\"vamos aprender python\")"
   ]
  },
  {
   "cell_type": "code",
   "execution_count": 5,
   "id": "fe40d531",
   "metadata": {},
   "outputs": [
    {
     "name": "stdout",
     "output_type": "stream",
     "text": [
      "vamos aprender python\n"
     ]
    }
   ],
   "source": [
    "Func()"
   ]
  },
  {
   "cell_type": "code",
   "execution_count": 8,
   "id": "4d8b2a75",
   "metadata": {},
   "outputs": [],
   "source": [
    "# Definindo uma função com parâmetro\n",
    "def Func(nome):\n",
    "    print(\"Meu Nome é %s\" %(nome))"
   ]
  },
  {
   "cell_type": "code",
   "execution_count": 9,
   "id": "23bbf313",
   "metadata": {},
   "outputs": [
    {
     "name": "stdout",
     "output_type": "stream",
     "text": [
      "Meu Nome é Adelmo\n"
     ]
    }
   ],
   "source": [
    "Func(\"Adelmo\")"
   ]
  },
  {
   "cell_type": "code",
   "execution_count": 13,
   "id": "448d8cb2",
   "metadata": {},
   "outputs": [],
   "source": [
    "# Função para somar números\n",
    "def somanum(prinum, segnum):\n",
    "    print(\"Primeiro número: \" + str(prinum))\n",
    "    print(\"Segundo número: \" + str(segnum))\n",
    "    print(\"Soma: \", prinum + segnum)"
   ]
  },
  {
   "cell_type": "code",
   "execution_count": 15,
   "id": "de5ce9c7",
   "metadata": {},
   "outputs": [
    {
     "name": "stdout",
     "output_type": "stream",
     "text": [
      "Primeiro número: 4\n",
      "Segundo número: 6\n",
      "Soma:  10\n"
     ]
    }
   ],
   "source": [
    "somanum(4,6)"
   ]
  },
  {
   "cell_type": "code",
   "execution_count": 16,
   "id": "5645b564",
   "metadata": {},
   "outputs": [],
   "source": [
    "# Variável Global e variável Local\n",
    "varglobal = 10  # Esta é uma variável global\n",
    "\n",
    "def mult(num1, num2):\n",
    "    varglobal = num1*num2\n",
    "    print(varglobal)"
   ]
  },
  {
   "cell_type": "code",
   "execution_count": 17,
   "id": "ae273baa",
   "metadata": {},
   "outputs": [
    {
     "name": "stdout",
     "output_type": "stream",
     "text": [
      "16\n"
     ]
    }
   ],
   "source": [
    "mult(2,8)"
   ]
  }
 ],
 "metadata": {
  "kernelspec": {
   "display_name": "Python 3",
   "language": "python",
   "name": "python3"
  },
  "language_info": {
   "codemirror_mode": {
    "name": "ipython",
    "version": 3
   },
   "file_extension": ".py",
   "mimetype": "text/x-python",
   "name": "python",
   "nbconvert_exporter": "python",
   "pygments_lexer": "ipython3",
   "version": "3.8.8"
  }
 },
 "nbformat": 4,
 "nbformat_minor": 5
}
