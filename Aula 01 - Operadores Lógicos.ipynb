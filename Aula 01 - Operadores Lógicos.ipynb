{
 "cells": [
  {
   "cell_type": "markdown",
   "id": "4dde9976",
   "metadata": {},
   "source": [
    "Python Básico\n",
    "\n",
    "Profº Adelmo Rodrigues\n",
    "\n",
    "https://github.com/ProfAdelmo"
   ]
  },
  {
   "cell_type": "markdown",
   "id": "e62c4bdf",
   "metadata": {},
   "source": [
    "Operações Lógica (Lógica Matemática)\n",
    "\n",
    "and (e) \n",
    "\n",
    "or (ou) \n",
    "\n",
    "not (negação)\n"
   ]
  },
  {
   "cell_type": "code",
   "execution_count": 106,
   "id": "8b860ddd",
   "metadata": {},
   "outputs": [
    {
     "name": "stdout",
     "output_type": "stream",
     "text": [
      "False\n",
      "False\n",
      "True\n",
      "False\n"
     ]
    }
   ],
   "source": [
    "# para o and(e) ser verdadeiro as duas proposições têm que ser verdadeiras\n",
    "x1 = 5 > 2 and 10 < 8\n",
    "y1 = 5 > 10 and 4 < 8\n",
    "z1 = 5 > 2 and 4 < 8\n",
    "w1 = 5 > 8 and 10 < 8\n",
    "print(x1)\n",
    "print(y1)\n",
    "print(z1)\n",
    "print(w1)"
   ]
  },
  {
   "cell_type": "code",
   "execution_count": 107,
   "id": "5c89cc2c",
   "metadata": {},
   "outputs": [
    {
     "name": "stdout",
     "output_type": "stream",
     "text": [
      "True\n",
      "True\n",
      "True\n",
      "False\n"
     ]
    }
   ],
   "source": [
    "# para o or(ou) ser verdadeiro basta uma proposição ser verdadeiras\n",
    "x2 = 5 > 2 or 10 < 8\n",
    "y2 = 5 > 10 or 4 < 8\n",
    "z2 = 5 > 2 or 4 < 8\n",
    "w2 = 5 > 8 or 10 < 8\n",
    "print(x2)\n",
    "print(y2)\n",
    "print(z2)\n",
    "print(w2)"
   ]
  },
  {
   "cell_type": "code",
   "execution_count": 109,
   "id": "7ae2e322",
   "metadata": {},
   "outputs": [
    {
     "name": "stdout",
     "output_type": "stream",
     "text": [
      "False\n",
      "a negação de x3 é:  True\n"
     ]
    }
   ],
   "source": [
    "# o not(negação) muda o valor lógico da proposição\n",
    "x3 = 8 > 10\n",
    "print(x3)\n",
    "y3 = not(x3)\n",
    "print(\"a negação de x3 é: \",y3)"
   ]
  },
  {
   "cell_type": "code",
   "execution_count": 112,
   "id": "36ac9d38",
   "metadata": {},
   "outputs": [
    {
     "name": "stdout",
     "output_type": "stream",
     "text": [
      "True\n",
      "a negação de x3 é:  False\n"
     ]
    }
   ],
   "source": [
    "# outro exemplo do not(negação)\n",
    "x4 = 8 < 10\n",
    "print(x4)\n",
    "y4 = not(x4)\n",
    "print(\"a negação de x3 é: \",y4)"
   ]
  }
 ],
 "metadata": {
  "kernelspec": {
   "display_name": "Python 3",
   "language": "python",
   "name": "python3"
  },
  "language_info": {
   "codemirror_mode": {
    "name": "ipython",
    "version": 3
   },
   "file_extension": ".py",
   "mimetype": "text/x-python",
   "name": "python",
   "nbconvert_exporter": "python",
   "pygments_lexer": "ipython3",
   "version": "3.8.8"
  }
 },
 "nbformat": 4,
 "nbformat_minor": 5
}
