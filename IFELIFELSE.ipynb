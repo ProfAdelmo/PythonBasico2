{
 "cells": [
  {
   "cell_type": "markdown",
   "id": "84969621",
   "metadata": {},
   "source": [
    "Python Básico\n",
    "\n",
    "Profº Adelmo Rodrigues\n",
    "\n",
    "https://github.com/ProfAdelmo"
   ]
  },
  {
   "cell_type": "markdown",
   "id": "b96ffcbe",
   "metadata": {},
   "source": [
    "Estrutura de Condição\n",
    "\n",
    "IF\n",
    "ELIF\n",
    "ELSE"
   ]
  },
  {
   "cell_type": "code",
   "execution_count": 87,
   "id": "cdbaddbf",
   "metadata": {},
   "outputs": [
    {
     "name": "stdout",
     "output_type": "stream",
     "text": [
      "10 é maior\n"
     ]
    }
   ],
   "source": [
    "# Estrutura Condicional Simples If\n",
    "if 10 > 1:\n",
    "    print(\"Verdade\")"
   ]
  },
  {
   "cell_type": "code",
   "execution_count": 88,
   "id": "a39a23c3",
   "metadata": {},
   "outputs": [
    {
     "name": "stdout",
     "output_type": "stream",
     "text": [
      "Falso\n"
     ]
    }
   ],
   "source": [
    "# Estrutura Condicional Intermediária If...Else\n",
    "if 10 < 2:\n",
    "    print(\"Verdade\")\n",
    "else:\n",
    "    print(\"Falso\")"
   ]
  },
  {
   "cell_type": "code",
   "execution_count": 90,
   "id": "45487e89",
   "metadata": {},
   "outputs": [
    {
     "name": "stdout",
     "output_type": "stream",
     "text": [
      "True\n",
      "True\n",
      "False\n",
      "False\n"
     ]
    }
   ],
   "source": [
    "# operadores de Igualdade\n",
    "x = 8==8\n",
    "y = 9 > 2\n",
    "z = 9 < 2\n",
    "w = 9 != 9\n",
    "print(x)\n",
    "print(y)\n",
    "print(z)\n",
    "print(w)"
   ]
  },
  {
   "cell_type": "code",
   "execution_count": 91,
   "id": "0cd75607",
   "metadata": {},
   "outputs": [
    {
     "ename": "SyntaxError",
     "evalue": "invalid syntax (<ipython-input-91-4403a47926a9>, line 2)",
     "output_type": "error",
     "traceback": [
      "\u001b[1;36m  File \u001b[1;32m\"<ipython-input-91-4403a47926a9>\"\u001b[1;36m, line \u001b[1;32m2\u001b[0m\n\u001b[1;33m    if 10 < 2\u001b[0m\n\u001b[1;37m             ^\u001b[0m\n\u001b[1;31mSyntaxError\u001b[0m\u001b[1;31m:\u001b[0m invalid syntax\n"
     ]
    }
   ],
   "source": [
    "# identação (\"espaço para organizar as coisas em python\")\n",
    "if 10 < 2\n",
    "    print(\"Verdade\")\n",
    "else:\n",
    "    print(\"Falso\")"
   ]
  },
  {
   "cell_type": "code",
   "execution_count": 100,
   "id": "eb195bec",
   "metadata": {},
   "outputs": [
    {
     "name": "stdout",
     "output_type": "stream",
     "text": [
      "8\n",
      "Você está aprovado!\n"
     ]
    }
   ],
   "source": [
    "# usando o ELIF\n",
    "# o input é para o usuário digitar a entrada\n",
    "n = input()\n",
    "n = int(n)\n",
    "if n >= 7:\n",
    "    print(\"Você está aprovado!\")\n",
    "elif n >= 5 and n < 7:\n",
    "    print(\"Você está na final!\")\n",
    "else:\n",
    "    print(\"Reprovado\")"
   ]
  }
 ],
 "metadata": {
  "kernelspec": {
   "display_name": "Python 3",
   "language": "python",
   "name": "python3"
  },
  "language_info": {
   "codemirror_mode": {
    "name": "ipython",
    "version": 3
   },
   "file_extension": ".py",
   "mimetype": "text/x-python",
   "name": "python",
   "nbconvert_exporter": "python",
   "pygments_lexer": "ipython3",
   "version": "3.8.8"
  }
 },
 "nbformat": 4,
 "nbformat_minor": 5
}
